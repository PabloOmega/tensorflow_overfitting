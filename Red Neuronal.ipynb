{
 "cells": [
  {
   "cell_type": "code",
   "execution_count": 1,
   "id": "4aff76f2",
   "metadata": {},
   "outputs": [],
   "source": [
    "import keras\n",
    "from keras.models import Sequential\n",
    "import tensorflow as tf\n",
    "from sklearn.datasets import make_classification\n",
    "from sklearn.model_selection import train_test_split\n",
    "import matplotlib.pyplot as plt"
   ]
  },
  {
   "cell_type": "markdown",
   "id": "695385de",
   "metadata": {},
   "source": [
    "### Métodos auxiliares\n",
    "\n",
    "Se proporcionan ciertos métodos para la visualización de gráficos. "
   ]
  },
  {
   "cell_type": "code",
   "execution_count": 2,
   "id": "140d6510",
   "metadata": {},
   "outputs": [],
   "source": [
    "def plot_acc(history, title=\"Model Accuracy\"):\n",
    "    \"\"\"Imprime una gráfica mostrando la accuracy por epoch obtenida en un entrenamiento\"\"\"\n",
    "    plt.plot(history.history['accuracy'])\n",
    "    plt.plot(history.history['val_accuracy'])\n",
    "    plt.title(title)\n",
    "    plt.ylabel('Accuracy')\n",
    "    plt.xlabel('Epoch')\n",
    "    plt.legend(['Train', 'Val'], loc='best')\n",
    "    plt.show()\n",
    "    \n",
    "def plot_loss(history, title=\"Model Loss\"):\n",
    "    \"\"\"Imprime una gráfica mostrando la pérdida por epoch obtenida en un entrenamiento\"\"\"\n",
    "    plt.plot(history.history['loss'])\n",
    "    plt.plot(history.history['val_loss'])\n",
    "    plt.title(title)\n",
    "    plt.ylabel('Loss')\n",
    "    plt.xlabel('Epoch')\n",
    "    plt.legend(['Train', 'Val'], loc='best')\n",
    "    plt.show()\n",
    "    \n",
    "def plot_compare_losses(history1, history2, name1=\"Red 1\",\n",
    "                        name2=\"Red 2\", title=\"Graph title\"):\n",
    "    \"\"\"Compara losses de dos entrenamientos con nombres name1 y name2\"\"\"\n",
    "    plt.plot(history1.history['loss'], color=\"green\")\n",
    "    plt.plot(history1.history['val_loss'], 'r--', color=\"green\")\n",
    "    plt.plot(history2.history['loss'], color=\"blue\")\n",
    "    plt.plot(history2.history['val_loss'], 'r--', color=\"blue\")\n",
    "    plt.title(title)\n",
    "    plt.ylabel('Loss')\n",
    "    plt.xlabel('Epoch')\n",
    "    plt.legend(['Train ' + name1, 'Val ' + name1, \n",
    "                'Train ' + name2, 'Val ' + name2],\n",
    "               loc='upper right')\n",
    "    plt.show()\n",
    "    \n",
    "def plot_compare_accs(history1, history2, name1=\"Red 1\",\n",
    "                      name2=\"Red 2\", title=\"Graph title\"):\n",
    "    \"\"\"Compara accuracies de dos entrenamientos con nombres name1 y name2\"\"\"\n",
    "    plt.plot(history1.history['accuracy'], color=\"green\")\n",
    "    plt.plot(history1.history['val_accuracy'], 'r--', color=\"green\")\n",
    "    plt.plot(history2.history['accuracy'], color=\"blue\")\n",
    "    plt.plot(history2.history['val_accuracy'], 'r--', color=\"blue\")\n",
    "    plt.title(title)\n",
    "    plt.ylabel('Accuracy')\n",
    "    plt.xlabel('Epoch')\n",
    "    plt.legend(['Train ' + name1, 'Val ' + name1, \n",
    "                'Train ' + name2, 'Val ' + name2], \n",
    "               loc='lower right')\n",
    "    plt.show()"
   ]
  },
  {
   "cell_type": "markdown",
   "id": "703f09a8",
   "metadata": {},
   "source": [
    "### 1. Diagnóstico y solución de un modelo I"
   ]
  },
  {
   "cell_type": "markdown",
   "id": "0cc05d0d",
   "metadata": {},
   "source": [
    "Creamos el dataset para un problema de clasificación multiclase con las siguientes propiedades:\n",
    "- 1000 ejemplos (*n_samples*)\n",
    "- 50 atributos (*n_features*)\n",
    "- 25 de ellos \"informativos\", es decir, valiosos (*n_informative*)\n",
    "- 4 clases de salida (*n_classes*)\n",
    "- Cada clase agrupada en un clúster (*n_clusters_per_class*)\n",
    "- Un 30% de las clases de salida se asignarán aleatoriamente, introduciendo ruido en el conjunto de datos (*flip_y*)\n",
    "\n",
    "El atributo *random_state* se utiliza como semilla para la generación de aleatoriedad. Si fijamos la semilla nos aseguramos que los datos siempre serán los mismos para distintas ejecuciones.\n",
    "\n",
    "El conjunto de datos lo dividiremos en los 3 subconjuntos correspondientes: train, validation y test. Lo repartiremos de la siguiente manera:\n",
    "- 64% de los datos para train\n",
    "- 16% de los datos para validación\n",
    "- 20% de los datos para test"
   ]
  },
  {
   "cell_type": "code",
   "execution_count": 3,
   "id": "0e9f2ccc",
   "metadata": {},
   "outputs": [],
   "source": [
    "#NOTOCAR\n",
    "X, y = make_classification(n_samples=1000, n_features=50, n_informative=25, n_redundant=0, n_classes = 4, n_clusters_per_class = 1, flip_y = 0.3, random_state=45)\n",
    "X_train_1, X_test_1, y_train_1, y_test_1 = train_test_split(X, y, test_size=0.2)\n",
    "X_train_1, X_val_1, y_train_1, y_val_1 = train_test_split(X_train_1, y_train_1, test_size=0.2)"
   ]
  },
  {
   "cell_type": "markdown",
   "id": "f4401372",
   "metadata": {},
   "source": [
    "Creamos el modelo **modelo_1** que vamos a usar como base y sobre el cual habrá que dar un diagnóstico de su desempeño sobre el conjunto de datos creamos anteriormente. Originalmente, el diseño del modelo será el siguiente:\n",
    "- Una capa de entrada de 50 neuronas\n",
    "- 2 hidden layers de 2056 y 1024 neuronas, respectivamente, que usarán ReLU como función de activación\n",
    "- 1 capa de salida adaptada al problema de clasificación multiclase\n",
    "\n",
    "Es importante usar el método *clear_session* para limpiar el grafo de computación del modelo y empezar de cero"
   ]
  },
  {
   "cell_type": "code",
   "execution_count": 4,
   "id": "cea94236",
   "metadata": {},
   "outputs": [],
   "source": [
    "#NOTOCAR\n",
    "tf.keras.backend.clear_session()\n",
    "modelo_1 = tf.keras.models.Sequential([\n",
    "    tf.keras.layers.Dense(2056, input_shape = (50,), activation='relu'),\n",
    "    tf.keras.layers.Dense(1024, activation='relu'),\n",
    "    tf.keras.layers.Dense(4, activation='softmax')\n",
    "])"
   ]
  },
  {
   "cell_type": "markdown",
   "id": "4bec72d8",
   "metadata": {},
   "source": [
    "Con la llamada al método *summary* podemos ver cierta información sobre la arquitectura del modelo:\n",
    "- La secuencia de capas con sus tamaños\n",
    "- El número de parámetros entrenables y no que tiene la red, desglosados por capa y totales"
   ]
  },
  {
   "cell_type": "code",
   "execution_count": 5,
   "id": "9d343f2d",
   "metadata": {},
   "outputs": [
    {
     "name": "stdout",
     "output_type": "stream",
     "text": [
      "Model: \"sequential\"\n",
      "_________________________________________________________________\n",
      " Layer (type)                Output Shape              Param #   \n",
      "=================================================================\n",
      " dense (Dense)               (None, 2056)              104856    \n",
      "                                                                 \n",
      " dense_1 (Dense)             (None, 1024)              2106368   \n",
      "                                                                 \n",
      " dense_2 (Dense)             (None, 4)                 4100      \n",
      "                                                                 \n",
      "=================================================================\n",
      "Total params: 2,215,324\n",
      "Trainable params: 2,215,324\n",
      "Non-trainable params: 0\n",
      "_________________________________________________________________\n"
     ]
    }
   ],
   "source": [
    "#NOTOCAR\n",
    "modelo_1.summary()"
   ]
  },
  {
   "cell_type": "markdown",
   "id": "c9d5cef1",
   "metadata": {},
   "source": [
    "Compilación del modelo, utilizando Adam como optimizador y la función de coste apropiada para el problema de clasificación multiclase:"
   ]
  },
  {
   "cell_type": "code",
   "execution_count": 6,
   "id": "432b480e",
   "metadata": {},
   "outputs": [],
   "source": [
    "#NOTOCAR\n",
    "modelo_1.compile(optimizer=\"adam\",\n",
    "              loss=\"sparse_categorical_crossentropy\",\n",
    "              metrics=['accuracy'])"
   ]
  },
  {
   "cell_type": "markdown",
   "id": "a1b213f7",
   "metadata": {},
   "source": [
    "Entrenamiento del modelo, durante 20 épocas, utilizando un tamaño de batch de 256 y utilizando el subconjunto creado anteriormente para validar:"
   ]
  },
  {
   "cell_type": "code",
   "execution_count": 7,
   "id": "dbc693b4",
   "metadata": {},
   "outputs": [
    {
     "name": "stdout",
     "output_type": "stream",
     "text": [
      "Epoch 1/20\n",
      "3/3 [==============================] - 1s 184ms/step - loss: 1.8083 - accuracy: 0.3000 - val_loss: 2.1271 - val_accuracy: 0.4625\n",
      "Epoch 2/20\n",
      "3/3 [==============================] - 0s 79ms/step - loss: 1.3370 - accuracy: 0.5484 - val_loss: 1.4558 - val_accuracy: 0.5312\n",
      "Epoch 3/20\n",
      "3/3 [==============================] - 0s 98ms/step - loss: 0.8845 - accuracy: 0.6844 - val_loss: 1.3214 - val_accuracy: 0.5125\n",
      "Epoch 4/20\n",
      "3/3 [==============================] - 0s 103ms/step - loss: 0.8097 - accuracy: 0.7063 - val_loss: 1.2233 - val_accuracy: 0.5688\n",
      "Epoch 5/20\n",
      "3/3 [==============================] - 0s 106ms/step - loss: 0.6566 - accuracy: 0.8000 - val_loss: 1.3016 - val_accuracy: 0.5437\n",
      "Epoch 6/20\n",
      "3/3 [==============================] - 0s 94ms/step - loss: 0.5999 - accuracy: 0.8031 - val_loss: 1.3534 - val_accuracy: 0.5750\n",
      "Epoch 7/20\n",
      "3/3 [==============================] - 0s 103ms/step - loss: 0.4937 - accuracy: 0.8500 - val_loss: 1.3677 - val_accuracy: 0.5688\n",
      "Epoch 8/20\n",
      "3/3 [==============================] - 0s 89ms/step - loss: 0.4176 - accuracy: 0.8844 - val_loss: 1.4425 - val_accuracy: 0.5500\n",
      "Epoch 9/20\n",
      "3/3 [==============================] - 0s 88ms/step - loss: 0.3581 - accuracy: 0.9000 - val_loss: 1.5091 - val_accuracy: 0.5813\n",
      "Epoch 10/20\n",
      "3/3 [==============================] - 0s 84ms/step - loss: 0.2870 - accuracy: 0.9266 - val_loss: 1.5777 - val_accuracy: 0.5750\n",
      "Epoch 11/20\n",
      "3/3 [==============================] - 0s 91ms/step - loss: 0.2405 - accuracy: 0.9422 - val_loss: 1.5871 - val_accuracy: 0.5688\n",
      "Epoch 12/20\n",
      "3/3 [==============================] - 0s 78ms/step - loss: 0.1925 - accuracy: 0.9609 - val_loss: 1.5774 - val_accuracy: 0.5875\n",
      "Epoch 13/20\n",
      "3/3 [==============================] - 0s 86ms/step - loss: 0.1558 - accuracy: 0.9781 - val_loss: 1.6481 - val_accuracy: 0.5938\n",
      "Epoch 14/20\n",
      "3/3 [==============================] - 0s 86ms/step - loss: 0.1211 - accuracy: 0.9891 - val_loss: 1.7614 - val_accuracy: 0.5688\n",
      "Epoch 15/20\n",
      "3/3 [==============================] - 0s 77ms/step - loss: 0.0951 - accuracy: 0.9953 - val_loss: 1.8131 - val_accuracy: 0.5562\n",
      "Epoch 16/20\n",
      "3/3 [==============================] - 0s 96ms/step - loss: 0.0747 - accuracy: 0.9984 - val_loss: 1.8630 - val_accuracy: 0.5625\n",
      "Epoch 17/20\n",
      "3/3 [==============================] - 0s 80ms/step - loss: 0.0585 - accuracy: 0.9984 - val_loss: 1.9331 - val_accuracy: 0.5688\n",
      "Epoch 18/20\n",
      "3/3 [==============================] - 0s 80ms/step - loss: 0.0458 - accuracy: 1.0000 - val_loss: 1.9925 - val_accuracy: 0.5750\n",
      "Epoch 19/20\n",
      "3/3 [==============================] - 0s 86ms/step - loss: 0.0355 - accuracy: 1.0000 - val_loss: 2.0719 - val_accuracy: 0.5625\n",
      "Epoch 20/20\n",
      "3/3 [==============================] - 0s 85ms/step - loss: 0.0291 - accuracy: 1.0000 - val_loss: 2.1456 - val_accuracy: 0.5688\n"
     ]
    }
   ],
   "source": [
    "#NOTOCAR\n",
    "N_EPOCAS = 20\n",
    "history_1 = modelo_1.fit(X_train_1, y_train_1, epochs=N_EPOCAS, batch_size = 256, validation_data=(X_val_1, y_val_1))"
   ]
  },
  {
   "cell_type": "markdown",
   "id": "e87f262b",
   "metadata": {},
   "source": [
    "Mostramos resultados de *accuracy* y *loss* utilizando los métodos auxiliares proporcionados al inicio de la práctica:"
   ]
  },
  {
   "cell_type": "code",
   "execution_count": 8,
   "id": "83c5fb4e",
   "metadata": {},
   "outputs": [
    {
     "data": {
      "image/png": "[encoded data removed]",
      "text/plain": [
       "<Figure size 432x288 with 1 Axes>"
      ]
     },
     "metadata": {
      "needs_background": "light"
     },
     "output_type": "display_data"
    },
    {
     "data": {
      "image/png": "[encoded data removed]",
      "text/plain": [
       "<Figure size 432x288 with 1 Axes>"
      ]
     },
     "metadata": {
      "needs_background": "light"
     },
     "output_type": "display_data"
    }
   ],
   "source": [
    "#NOTOCAR\n",
    "plot_acc(history_1, title = \"Accuracy del modelo_1\")\n",
    "plot_loss(history_1, title = \"Loss del modelo_1\")"
   ]
  },
  {
   "cell_type": "markdown",
   "id": "f8ae3f75",
   "metadata": {},
   "source": [
    "Evaluamos el rendimiento del **modelo_1** ya entrenado sobre el conjunto de test:"
   ]
  },
  {
   "cell_type": "code",
   "execution_count": 9,
   "id": "69e7804e",
   "metadata": {},
   "outputs": [
    {
     "name": "stdout",
     "output_type": "stream",
     "text": [
      "7/7 [==============================] - 0s 5ms/step - loss: 1.6494 - accuracy: 0.6400\n",
      "Accuracy del modelo_1 en test: 0.6399999856948853\n",
      "Loss del modelo_1 en test: 1.6494008302688599\n"
     ]
    }
   ],
   "source": [
    "#NOTOCAR\n",
    "metricas = modelo_1.evaluate(X_test_1, y_test_1)\n",
    "print(\"Accuracy del modelo_1 en test:\", metricas[1])\n",
    "print(\"Loss del modelo_1 en test:\", metricas[0])"
   ]
  },
  {
   "cell_type": "markdown",
   "id": "6f996eff",
   "metadata": {},
   "source": [
    "#### 1.1. Diagnóstico\n",
    "\n",
    "Una vez creado, entrenado y evaluado el modelo, es momento de sacar conclusiones. Hay que recordar que el problema que estamos enfrentando tiene 4 clases, por lo que si la decisión del modelo fuese completamente al azar, obtendría en torno a un 25% de accuracy. Observa el valor de *accuracy* en test, es evidente que algo le ocurre al **modelo_1**.\n",
    "\n",
    "Explica lo que consideras que le está ocurriendo, acompañado del mayor número de evidencias y explicaciones posibles. Puedes usar tanto celdas de texto como de código por si consideras necesario ejecutar alguna prueba adicional."
   ]
  },
  {
   "cell_type": "markdown",
   "id": "3a9072fd",
   "metadata": {},
   "source": [
    "El problema que esta ocurriendo es que la red neuronal esta memorizando los datos de entrenamiento causando lo que se denomina como overfitting o sobreentrenamiento. Esto se puede evidenciar claramente en la gráfica de Acurracy y de Loss, donde se observa un mejor comportamiento en los datos de entrenamiento comparado con los datos de Val. Adicionalmente, mientras el accuracy sigue aumentando para los datos de entrenamiento conforme aumenta el número de epocas, en los datos de Val se llega a un punto máximo y luego el accuracy vuelve a bajar terminando en un modelo ineficiente. En los datos de test, también se puede observar un accuracy bajo (0.64) comparado con el obtenido al entrenar la red."
   ]
  },
  {
   "cell_type": "markdown",
   "id": "c338aabe",
   "metadata": {},
   "source": [
    "#### 1.2. Modelo optimizado"
   ]
  },
  {
   "cell_type": "markdown",
   "id": "9f54a75c",
   "metadata": {},
   "source": [
    "Se implementó una red neuronal con las mismas dos capas pero con menor cantidad de neuronas por capa con el fin de reducir la complejidad de la red y evitar el sobreajuste. Se añadio regulizadores para compensar el sobreajuste. Se añadió un regulizador `L2` en cada capa con una baja penalización (0.01) para no afectar el accuracy, además, tiene un buen comportamiento junto con el optimizador `adam`. Se añadió también un `Dropout` con una tasa del abandono del 50% que entrego buenos resultados. Las funciones de activación se dejaron las mismas ya que entregaron un buen accuracy."
   ]
  },
  {
   "cell_type": "code",
   "execution_count": 267,
   "id": "d7e5a933",
   "metadata": {},
   "outputs": [],
   "source": [
    "tf.keras.backend.clear_session()\n",
    "modelo_1_v2 = tf.keras.models.Sequential([\n",
    "    # Tu modelo aquí\n",
    "    tf.keras.layers.Dense(512, input_shape = (50,), activation='relu', kernel_regularizer=tf.keras.regularizers.l2(0.01)),\n",
    "    tf.keras.layers.Dropout(0.5),\n",
    "    tf.keras.layers.Dense(256, activation='relu', kernel_regularizer=tf.keras.regularizers.l2(0.01)),\n",
    "    tf.keras.layers.Dropout(0.5),\n",
    "    tf.keras.layers.Dense(4, activation='softmax')\n",
    "])"
   ]
  },
  {
   "cell_type": "markdown",
   "id": "fa8c07bb",
   "metadata": {},
   "source": [
    "Resumen de la arquitectura de la red:"
   ]
  },
  {
   "cell_type": "code",
   "execution_count": 268,
   "id": "68bc99c3",
   "metadata": {},
   "outputs": [
    {
     "name": "stdout",
     "output_type": "stream",
     "text": [
      "Model: \"sequential\"\n",
      "_________________________________________________________________\n",
      " Layer (type)                Output Shape              Param #   \n",
      "=================================================================\n",
      " dense (Dense)               (None, 512)               26112     \n",
      "                                                                 \n",
      " dropout (Dropout)           (None, 512)               0         \n",
      "                                                                 \n",
      " dense_1 (Dense)             (None, 256)               131328    \n",
      "                                                                 \n",
      " dropout_1 (Dropout)         (None, 256)               0         \n",
      "                                                                 \n",
      " dense_2 (Dense)             (None, 4)                 1028      \n",
      "                                                                 \n",
      "=================================================================\n",
      "Total params: 158,468\n",
      "Trainable params: 158,468\n",
      "Non-trainable params: 0\n",
      "_________________________________________________________________\n"
     ]
    }
   ],
   "source": [
    "modelo_1_v2.summary()"
   ]
  },
  {
   "cell_type": "markdown",
   "id": "4e8a8934",
   "metadata": {},
   "source": [
    "El optimizador `adam` tuvo un buen comportamiento tanto en términos de sobreajuste como en accuracy en los datos de test. "
   ]
  },
  {
   "cell_type": "code",
   "execution_count": 269,
   "id": "0d648f84",
   "metadata": {},
   "outputs": [],
   "source": [
    "modelo_1_v2.compile(optimizer=\"adam\",\n",
    "              loss=\"sparse_categorical_crossentropy\",\n",
    "              metrics=['accuracy'])"
   ]
  },
  {
   "cell_type": "markdown",
   "id": "e5ef869c",
   "metadata": {},
   "source": [
    "Se añadió un callback para monitorear el `val_loss` y evitar aún más el sobreajuste. Se colocó una `patience` de dos para detener el entrenamiento si no hay mejora luego de dos épocas consecutivas."
   ]
  },
  {
   "cell_type": "code",
   "execution_count": 270,
   "id": "2be1e8c9",
   "metadata": {},
   "outputs": [],
   "source": [
    "early_stop = tf.keras.callbacks.EarlyStopping(monitor='val_loss', patience=2)"
   ]
  },
  {
   "cell_type": "markdown",
   "id": "bbe9e489",
   "metadata": {},
   "source": [
    "Aparte del Early Stopping no se realizó ninguna otra modificación en el entrenamiento."
   ]
  },
  {
   "cell_type": "code",
   "execution_count": 271,
   "id": "eccf3f49",
   "metadata": {},
   "outputs": [
    {
     "name": "stdout",
     "output_type": "stream",
     "text": [
      "Epoch 1/20\n",
      "3/3 [==============================] - 1s 139ms/step - loss: 6.2320 - accuracy: 0.2750 - val_loss: 5.5626 - val_accuracy: 0.3688\n",
      "Epoch 2/20\n",
      "3/3 [==============================] - 0s 41ms/step - loss: 5.8086 - accuracy: 0.3734 - val_loss: 5.3985 - val_accuracy: 0.4688\n",
      "Epoch 3/20\n",
      "3/3 [==============================] - 0s 33ms/step - loss: 5.5363 - accuracy: 0.4500 - val_loss: 5.3044 - val_accuracy: 0.5250\n",
      "Epoch 4/20\n",
      "3/3 [==============================] - 0s 36ms/step - loss: 5.2710 - accuracy: 0.5063 - val_loss: 5.2040 - val_accuracy: 0.5375\n",
      "Epoch 5/20\n",
      "3/3 [==============================] - 0s 30ms/step - loss: 5.1457 - accuracy: 0.5344 - val_loss: 5.0896 - val_accuracy: 0.5375\n",
      "Epoch 6/20\n",
      "3/3 [==============================] - 0s 31ms/step - loss: 4.8816 - accuracy: 0.6047 - val_loss: 4.9770 - val_accuracy: 0.5312\n",
      "Epoch 7/20\n",
      "3/3 [==============================] - 0s 29ms/step - loss: 4.8076 - accuracy: 0.5672 - val_loss: 4.8629 - val_accuracy: 0.5375\n",
      "Epoch 8/20\n",
      "3/3 [==============================] - 0s 32ms/step - loss: 4.6154 - accuracy: 0.6203 - val_loss: 4.7567 - val_accuracy: 0.5375\n",
      "Epoch 9/20\n",
      "3/3 [==============================] - 0s 32ms/step - loss: 4.5507 - accuracy: 0.6109 - val_loss: 4.6508 - val_accuracy: 0.5437\n",
      "Epoch 10/20\n",
      "3/3 [==============================] - 0s 32ms/step - loss: 4.3708 - accuracy: 0.6281 - val_loss: 4.5477 - val_accuracy: 0.5562\n",
      "Epoch 11/20\n",
      "3/3 [==============================] - 0s 30ms/step - loss: 4.2740 - accuracy: 0.6344 - val_loss: 4.4482 - val_accuracy: 0.5625\n",
      "Epoch 12/20\n",
      "3/3 [==============================] - 0s 32ms/step - loss: 4.1406 - accuracy: 0.6328 - val_loss: 4.3531 - val_accuracy: 0.5750\n",
      "Epoch 13/20\n",
      "3/3 [==============================] - 0s 32ms/step - loss: 4.0500 - accuracy: 0.6422 - val_loss: 4.2574 - val_accuracy: 0.5688\n",
      "Epoch 14/20\n",
      "3/3 [==============================] - 0s 31ms/step - loss: 3.9046 - accuracy: 0.6734 - val_loss: 4.1579 - val_accuracy: 0.5938\n",
      "Epoch 15/20\n",
      "3/3 [==============================] - 0s 39ms/step - loss: 3.8186 - accuracy: 0.6828 - val_loss: 4.0655 - val_accuracy: 0.6062\n",
      "Epoch 16/20\n",
      "3/3 [==============================] - 0s 43ms/step - loss: 3.6996 - accuracy: 0.6828 - val_loss: 3.9760 - val_accuracy: 0.6000\n",
      "Epoch 17/20\n",
      "3/3 [==============================] - 0s 56ms/step - loss: 3.6235 - accuracy: 0.6703 - val_loss: 3.8870 - val_accuracy: 0.6000\n",
      "Epoch 18/20\n",
      "3/3 [==============================] - 0s 49ms/step - loss: 3.4920 - accuracy: 0.7000 - val_loss: 3.8059 - val_accuracy: 0.6125\n",
      "Epoch 19/20\n",
      "3/3 [==============================] - 0s 45ms/step - loss: 3.3755 - accuracy: 0.7094 - val_loss: 3.7294 - val_accuracy: 0.6000\n",
      "Epoch 20/20\n",
      "3/3 [==============================] - 0s 51ms/step - loss: 3.3284 - accuracy: 0.6891 - val_loss: 3.6575 - val_accuracy: 0.6187\n"
     ]
    }
   ],
   "source": [
    "history_1_v2 = modelo_1_v2.fit(X_train_1, y_train_1, epochs=N_EPOCAS, batch_size = 256, validation_data=(X_val_1, y_val_1), callbacks=[early_stop])"
   ]
  },
  {
   "cell_type": "markdown",
   "id": "3cae3e25",
   "metadata": {},
   "source": [
    "En las siguientes gráficas, se evidencia que el problema del sobreajuste se ha mejorado notoriamente con los nuevos ajustes de la red:"
   ]
  },
  {
   "cell_type": "code",
   "execution_count": 272,
   "id": "39de98f4",
   "metadata": {},
   "outputs": [
    {
     "data": {
      "image/png": "[encoded data removed]",
      "text/plain": [
       "<Figure size 432x288 with 1 Axes>"
      ]
     },
     "metadata": {
      "needs_background": "light"
     },
     "output_type": "display_data"
    },
    {
     "data": {
      "image/png": "[encoded data removed]",
      "text/plain": [
       "<Figure size 432x288 with 1 Axes>"
      ]
     },
     "metadata": {
      "needs_background": "light"
     },
     "output_type": "display_data"
    }
   ],
   "source": [
    "plot_acc(history_1_v2, title = \"Accuracy del modelo_1_v2\")\n",
    "plot_loss(history_1_v2, title = \"Loss del modelo_1_v2\")"
   ]
  },
  {
   "cell_type": "markdown",
   "id": "6c53b2ed",
   "metadata": {},
   "source": [
    "Pese a que se consiguió solucionar el sobreajuste, no se mejoró significativamente el accuracy en los datos de test, es posible que se necesite aumentar las épocas de entrenamiento:"
   ]
  },
  {
   "cell_type": "code",
   "execution_count": 273,
   "id": "413ab8cb",
   "metadata": {},
   "outputs": [
    {
     "name": "stdout",
     "output_type": "stream",
     "text": [
      "7/7 [==============================] - 0s 3ms/step - loss: 3.4356 - accuracy: 0.6650\n",
      "Accuracy del modelo_1 en test: 0.6650000214576721\n",
      "Loss del modelo_1 en test: 3.435628890991211\n"
     ]
    }
   ],
   "source": [
    "metricas = modelo_1_v2.evaluate(X_test_1, y_test_1)\n",
    "print(\"Accuracy del modelo_1 en test:\", metricas[1])\n",
    "print(\"Loss del modelo_1 en test:\", metricas[0])"
   ]
  },
  {
   "cell_type": "markdown",
   "id": "532ae636",
   "metadata": {},
   "source": [
    "### 2. Diagnóstico y solución de un modelo II"
   ]
  },
  {
   "cell_type": "markdown",
   "id": "24969fc6",
   "metadata": {},
   "source": [
    "Creamos el modelo de referencia para diagnosticar y solucionar el problema, que lo almacenaremos en la variable **modelo_2**. Este tendrá las siguientes características:\n",
    "- Una capa de entrada de 50 neuronas\n",
    "- 2 hidden layers de 12 y 8 neuronas, respectivamente, que usarán ReLU como función de activación\n",
    "- 1 capa de salida adaptada al problema de clasificación multiclase"
   ]
  },
  {
   "cell_type": "code",
   "execution_count": 18,
   "id": "ce4cc58b",
   "metadata": {},
   "outputs": [],
   "source": [
    "# NOTOCAR\n",
    "tf.keras.backend.clear_session()\n",
    "modelo_2 = tf.keras.models.Sequential([\n",
    "    tf.keras.layers.Dense(12, input_shape = (50,), activation='relu'),\n",
    "    tf.keras.layers.Dense(8, activation='relu'),\n",
    "    tf.keras.layers.Dense(4, activation='softmax')\n",
    "])"
   ]
  },
  {
   "cell_type": "markdown",
   "id": "8c3bb60e",
   "metadata": {},
   "source": [
    "Mostramos la descripción del modelo:"
   ]
  },
  {
   "cell_type": "code",
   "execution_count": 19,
   "id": "945a4612",
   "metadata": {},
   "outputs": [
    {
     "name": "stdout",
     "output_type": "stream",
     "text": [
      "Model: \"sequential\"\n",
      "_________________________________________________________________\n",
      " Layer (type)                Output Shape              Param #   \n",
      "=================================================================\n",
      " dense (Dense)               (None, 12)                612       \n",
      "                                                                 \n",
      " dense_1 (Dense)             (None, 8)                 104       \n",
      "                                                                 \n",
      " dense_2 (Dense)             (None, 4)                 36        \n",
      "                                                                 \n",
      "=================================================================\n",
      "Total params: 752\n",
      "Trainable params: 752\n",
      "Non-trainable params: 0\n",
      "_________________________________________________________________\n"
     ]
    }
   ],
   "source": [
    "# NOTOCAR\n",
    "modelo_2.summary()"
   ]
  },
  {
   "cell_type": "markdown",
   "id": "833f9997",
   "metadata": {},
   "source": [
    "Su compilación es idéntica a la del **modelo_1**:"
   ]
  },
  {
   "cell_type": "code",
   "execution_count": 20,
   "id": "b4c9cd58",
   "metadata": {},
   "outputs": [],
   "source": [
    "#NOTOCAR\n",
    "modelo_2.compile(optimizer=\"adam\",\n",
    "              loss=\"sparse_categorical_crossentropy\",\n",
    "              metrics=['accuracy'])"
   ]
  },
  {
   "cell_type": "markdown",
   "id": "5182183b",
   "metadata": {},
   "source": [
    "El entrenamiento, como bien se menciona en el enunciado, se va a llevar a cabo usando los mismos subconjuntos que en el ejercicio 1:"
   ]
  },
  {
   "cell_type": "code",
   "execution_count": 21,
   "id": "036e28e8",
   "metadata": {},
   "outputs": [
    {
     "name": "stdout",
     "output_type": "stream",
     "text": [
      "Epoch 1/20\n",
      "3/3 [==============================] - 1s 100ms/step - loss: 2.3149 - accuracy: 0.2703 - val_loss: 2.3186 - val_accuracy: 0.2875\n",
      "Epoch 2/20\n",
      "3/3 [==============================] - 0s 27ms/step - loss: 2.2357 - accuracy: 0.2750 - val_loss: 2.2571 - val_accuracy: 0.2937\n",
      "Epoch 3/20\n",
      "3/3 [==============================] - 0s 33ms/step - loss: 2.1616 - accuracy: 0.2828 - val_loss: 2.2001 - val_accuracy: 0.3000\n",
      "Epoch 4/20\n",
      "3/3 [==============================] - 0s 22ms/step - loss: 2.0943 - accuracy: 0.2906 - val_loss: 2.1469 - val_accuracy: 0.3063\n",
      "Epoch 5/20\n",
      "3/3 [==============================] - 0s 24ms/step - loss: 2.0290 - accuracy: 0.2984 - val_loss: 2.0961 - val_accuracy: 0.3125\n",
      "Epoch 6/20\n",
      "3/3 [==============================] - 0s 23ms/step - loss: 1.9698 - accuracy: 0.3078 - val_loss: 2.0475 - val_accuracy: 0.3250\n",
      "Epoch 7/20\n",
      "3/3 [==============================] - 0s 22ms/step - loss: 1.9127 - accuracy: 0.3109 - val_loss: 2.0018 - val_accuracy: 0.3250\n",
      "Epoch 8/20\n",
      "3/3 [==============================] - 0s 22ms/step - loss: 1.8594 - accuracy: 0.3141 - val_loss: 1.9596 - val_accuracy: 0.3313\n",
      "Epoch 9/20\n",
      "3/3 [==============================] - 0s 22ms/step - loss: 1.8100 - accuracy: 0.3234 - val_loss: 1.9190 - val_accuracy: 0.3375\n",
      "Epoch 10/20\n",
      "3/3 [==============================] - 0s 20ms/step - loss: 1.7628 - accuracy: 0.3328 - val_loss: 1.8802 - val_accuracy: 0.3313\n",
      "Epoch 11/20\n",
      "3/3 [==============================] - 0s 21ms/step - loss: 1.7180 - accuracy: 0.3422 - val_loss: 1.8445 - val_accuracy: 0.3313\n",
      "Epoch 12/20\n",
      "3/3 [==============================] - 0s 22ms/step - loss: 1.6782 - accuracy: 0.3562 - val_loss: 1.8110 - val_accuracy: 0.3250\n",
      "Epoch 13/20\n",
      "3/3 [==============================] - 0s 23ms/step - loss: 1.6404 - accuracy: 0.3562 - val_loss: 1.7798 - val_accuracy: 0.3250\n",
      "Epoch 14/20\n",
      "3/3 [==============================] - 0s 33ms/step - loss: 1.6043 - accuracy: 0.3703 - val_loss: 1.7506 - val_accuracy: 0.3313\n",
      "Epoch 15/20\n",
      "3/3 [==============================] - 0s 22ms/step - loss: 1.5718 - accuracy: 0.3812 - val_loss: 1.7227 - val_accuracy: 0.3313\n",
      "Epoch 16/20\n",
      "3/3 [==============================] - 0s 27ms/step - loss: 1.5408 - accuracy: 0.3938 - val_loss: 1.6963 - val_accuracy: 0.3375\n",
      "Epoch 17/20\n",
      "3/3 [==============================] - 0s 22ms/step - loss: 1.5121 - accuracy: 0.4094 - val_loss: 1.6717 - val_accuracy: 0.3500\n",
      "Epoch 18/20\n",
      "3/3 [==============================] - 0s 22ms/step - loss: 1.4843 - accuracy: 0.4125 - val_loss: 1.6492 - val_accuracy: 0.3625\n",
      "Epoch 19/20\n",
      "3/3 [==============================] - 0s 21ms/step - loss: 1.4600 - accuracy: 0.4203 - val_loss: 1.6276 - val_accuracy: 0.3625\n",
      "Epoch 20/20\n",
      "3/3 [==============================] - 0s 24ms/step - loss: 1.4366 - accuracy: 0.4344 - val_loss: 1.6072 - val_accuracy: 0.3688\n"
     ]
    }
   ],
   "source": [
    "#NOTOCAR\n",
    "history_2 = modelo_2.fit(X_train_1, y_train_1, epochs=N_EPOCAS, batch_size = 256, validation_data=(X_val_1, y_val_1))"
   ]
  },
  {
   "cell_type": "markdown",
   "id": "97984205",
   "metadata": {},
   "source": [
    "Mostramos las gráficas de *accuracy* y *loss*:"
   ]
  },
  {
   "cell_type": "code",
   "execution_count": 22,
   "id": "c9d16b61",
   "metadata": {},
   "outputs": [
    {
     "data": {
      "image/png": "[encoded data removed]",
      "text/plain": [
       "<Figure size 432x288 with 1 Axes>"
      ]
     },
     "metadata": {
      "needs_background": "light"
     },
     "output_type": "display_data"
    },
    {
     "data": {
      "image/png": "[encoded data removed]",
      "text/plain": [
       "<Figure size 432x288 with 1 Axes>"
      ]
     },
     "metadata": {
      "needs_background": "light"
     },
     "output_type": "display_data"
    }
   ],
   "source": [
    "#NOTOCAR\n",
    "plot_acc(history_2, title = \"Accuracy del modelo_2\")\n",
    "plot_loss(history_2, title = \"Loss del modelo_2\")"
   ]
  },
  {
   "cell_type": "markdown",
   "id": "e5a28dc2",
   "metadata": {},
   "source": [
    "Evaluamos el rendimiento del **modelo_2** ya entrenado sobre el conjunto de test:"
   ]
  },
  {
   "cell_type": "code",
   "execution_count": 23,
   "id": "552c1a85",
   "metadata": {},
   "outputs": [
    {
     "name": "stdout",
     "output_type": "stream",
     "text": [
      "7/7 [==============================] - 0s 2ms/step - loss: 1.3984 - accuracy: 0.4100\n",
      "Accuracy del modelo_2 en test: 0.4099999964237213\n",
      "Loss del modelo_2 en test: 1.398358941078186\n"
     ]
    }
   ],
   "source": [
    "#NOTOCAR\n",
    "metricas = modelo_2.evaluate(X_test_1, y_test_1)\n",
    "print(\"Accuracy del modelo_2 en test:\", metricas[1])\n",
    "print(\"Loss del modelo_2 en test:\", metricas[0])"
   ]
  },
  {
   "cell_type": "markdown",
   "id": "1de62482",
   "metadata": {},
   "source": [
    "#### 2.1. Diagnóstico\n",
    "\n",
    "Una vez creado, entrenado y evaluado el modelo, es momento de sacar conclusiones. Hay que recordar que el problema que estamos enfrentando tiene 4 clases, por lo que si la decisión del modelo fuese completamente al azar, obtendría en torno a un 25% de accuracy. Observa el valor de *accuracy* en test, es evidente que algo le ocurre al **modelo_2**.\n",
    "\n",
    "Explica lo que consideras que le está ocurriendo, acompañado del mayor número de evidencias y explicaciones posibles. Puedes usar tanto celdas de texto como de código por si consideras necesario ejecutar alguna prueba adicional."
   ]
  },
  {
   "cell_type": "code",
   "execution_count": 24,
   "id": "2caf49a7",
   "metadata": {},
   "outputs": [],
   "source": [
    "# Respuesta aquí"
   ]
  },
  {
   "cell_type": "markdown",
   "id": "8b5c2ae2",
   "metadata": {},
   "source": [
    "El problema que esta ocurriendo es `underfitting` o subajuste, ya que se obtiene un bajo accuracy en los datos de entrenamiento y también en los datos de test. Esto también se evidencia en las gráficas de accuracy y de Loss. En la del accuracy se puede observar que ambas tendencias no consiguen un incremento significativo pese a que la de train sea ligeramente mejor, por lo que se descarta el overfitting."
   ]
  },
  {
   "cell_type": "markdown",
   "id": "01b4a814",
   "metadata": {},
   "source": [
    "#### 2.2. Modelo optimizado"
   ]
  },
  {
   "cell_type": "markdown",
   "id": "a0c539c2",
   "metadata": {},
   "source": [
    "Se aumentó la complejidad de la red neuronal para intentar solucionar el problema sin introducir overfitting. Se aumentó una capa más y se incrementaron las neuronas por capa. Las funciones de activación se colocaron en Sigmoide ya que se consigue mejores resultados en términos de accuracy. No fue necesario añadir regulizadores."
   ]
  },
  {
   "cell_type": "code",
   "execution_count": 408,
   "id": "12407b97",
   "metadata": {},
   "outputs": [],
   "source": [
    "tf.keras.backend.clear_session()\n",
    "modelo_2_v2 = tf.keras.models.Sequential([\n",
    "    # Tu modelo aquí\n",
    "    tf.keras.layers.Dense(1024, input_shape = (50,), activation='sigmoid'),\n",
    "    tf.keras.layers.Dense(512, activation='sigmoid'),\n",
    "    tf.keras.layers.Dense(64, activation='sigmoid'),\n",
    "    tf.keras.layers.Dense(4, activation='softmax')\n",
    "])"
   ]
  },
  {
   "cell_type": "code",
   "execution_count": 409,
   "id": "dc7a7044",
   "metadata": {},
   "outputs": [],
   "source": [
    "# Usa todas las celdas que necesites, acompañadas de justificaión en celdas de texto"
   ]
  },
  {
   "cell_type": "markdown",
   "id": "26fee8a3",
   "metadata": {},
   "source": [
    "Resumen del modelo"
   ]
  },
  {
   "cell_type": "code",
   "execution_count": 410,
   "id": "4922ab36",
   "metadata": {},
   "outputs": [
    {
     "name": "stdout",
     "output_type": "stream",
     "text": [
      "Model: \"sequential\"\n",
      "_________________________________________________________________\n",
      " Layer (type)                Output Shape              Param #   \n",
      "=================================================================\n",
      " dense (Dense)               (None, 1024)              52224     \n",
      "                                                                 \n",
      " dense_1 (Dense)             (None, 512)               524800    \n",
      "                                                                 \n",
      " dense_2 (Dense)             (None, 64)                32832     \n",
      "                                                                 \n",
      " dense_3 (Dense)             (None, 4)                 260       \n",
      "                                                                 \n",
      "=================================================================\n",
      "Total params: 610,116\n",
      "Trainable params: 610,116\n",
      "Non-trainable params: 0\n",
      "_________________________________________________________________\n"
     ]
    }
   ],
   "source": [
    "modelo_2_v2.summary()"
   ]
  },
  {
   "cell_type": "markdown",
   "id": "8431a69e",
   "metadata": {},
   "source": [
    "Se utilizó `adam` como optimizador, puesto que solucionaba el problema sin generar sobreajuste notorio."
   ]
  },
  {
   "cell_type": "code",
   "execution_count": 411,
   "id": "ea2b93d5",
   "metadata": {},
   "outputs": [],
   "source": [
    "modelo_2_v2.compile(optimizer=\"adam\",\n",
    "              loss=\"sparse_categorical_crossentropy\",\n",
    "              metrics=['accuracy'])"
   ]
  },
  {
   "cell_type": "markdown",
   "id": "a5948410",
   "metadata": {},
   "source": [
    "El entrenamiento, como bien se menciona en el enunciado, se va a llevar a cabo usando los mismos subconjuntos que en el ejercicio 2. Adicionalmente, se utilizó Early Stopping para evitar sobreajuste:"
   ]
  },
  {
   "cell_type": "code",
   "execution_count": 412,
   "id": "2368d29f",
   "metadata": {},
   "outputs": [
    {
     "name": "stdout",
     "output_type": "stream",
     "text": [
      "Epoch 1/20\n",
      "3/3 [==============================] - 2s 174ms/step - loss: 1.4275 - accuracy: 0.2656 - val_loss: 1.4405 - val_accuracy: 0.2750\n",
      "Epoch 2/20\n",
      "3/3 [==============================] - 0s 40ms/step - loss: 1.3984 - accuracy: 0.2875 - val_loss: 1.3681 - val_accuracy: 0.4250\n",
      "Epoch 3/20\n",
      "3/3 [==============================] - 0s 47ms/step - loss: 1.3451 - accuracy: 0.3469 - val_loss: 1.3494 - val_accuracy: 0.4375\n",
      "Epoch 4/20\n",
      "3/3 [==============================] - 0s 69ms/step - loss: 1.3059 - accuracy: 0.4625 - val_loss: 1.3164 - val_accuracy: 0.4313\n",
      "Epoch 5/20\n",
      "3/3 [==============================] - 0s 54ms/step - loss: 1.2676 - accuracy: 0.4906 - val_loss: 1.2841 - val_accuracy: 0.4500\n",
      "Epoch 6/20\n",
      "3/3 [==============================] - 0s 56ms/step - loss: 1.2234 - accuracy: 0.5203 - val_loss: 1.3116 - val_accuracy: 0.4437\n",
      "Epoch 7/20\n",
      "3/3 [==============================] - 0s 57ms/step - loss: 1.1979 - accuracy: 0.5484 - val_loss: 1.2585 - val_accuracy: 0.4875\n",
      "Epoch 8/20\n",
      "3/3 [==============================] - 0s 75ms/step - loss: 1.1670 - accuracy: 0.4969 - val_loss: 1.2396 - val_accuracy: 0.5250\n",
      "Epoch 9/20\n",
      "3/3 [==============================] - 0s 62ms/step - loss: 1.1293 - accuracy: 0.5813 - val_loss: 1.2888 - val_accuracy: 0.4187\n",
      "Epoch 10/20\n",
      "3/3 [==============================] - 0s 50ms/step - loss: 1.1182 - accuracy: 0.5656 - val_loss: 1.2518 - val_accuracy: 0.4812\n",
      "Epoch 11/20\n",
      "3/3 [==============================] - 0s 51ms/step - loss: 1.0780 - accuracy: 0.5938 - val_loss: 1.2356 - val_accuracy: 0.5000\n",
      "Epoch 12/20\n",
      "3/3 [==============================] - 0s 46ms/step - loss: 1.0582 - accuracy: 0.6141 - val_loss: 1.2749 - val_accuracy: 0.4750\n",
      "Epoch 13/20\n",
      "3/3 [==============================] - 0s 53ms/step - loss: 1.0377 - accuracy: 0.6203 - val_loss: 1.2682 - val_accuracy: 0.4750\n",
      "Epoch 14/20\n",
      "3/3 [==============================] - 0s 52ms/step - loss: 1.0226 - accuracy: 0.6250 - val_loss: 1.2507 - val_accuracy: 0.4875\n",
      "Epoch 15/20\n",
      "3/3 [==============================] - 0s 69ms/step - loss: 1.0057 - accuracy: 0.6484 - val_loss: 1.2840 - val_accuracy: 0.4750\n",
      "Epoch 16/20\n",
      "3/3 [==============================] - 0s 63ms/step - loss: 0.9925 - accuracy: 0.6266 - val_loss: 1.2951 - val_accuracy: 0.4750\n",
      "Epoch 17/20\n",
      "3/3 [==============================] - 0s 81ms/step - loss: 0.9787 - accuracy: 0.6516 - val_loss: 1.2862 - val_accuracy: 0.4938\n",
      "Epoch 18/20\n",
      "3/3 [==============================] - 0s 69ms/step - loss: 0.9649 - accuracy: 0.6672 - val_loss: 1.2991 - val_accuracy: 0.4750\n",
      "Epoch 19/20\n",
      "3/3 [==============================] - 0s 67ms/step - loss: 0.9639 - accuracy: 0.6516 - val_loss: 1.3110 - val_accuracy: 0.4812\n",
      "Epoch 20/20\n",
      "3/3 [==============================] - 0s 59ms/step - loss: 0.9512 - accuracy: 0.6562 - val_loss: 1.3268 - val_accuracy: 0.4875\n"
     ]
    }
   ],
   "source": [
    "history_2_v2 = modelo_2_v2.fit(X_train_1, y_train_1, epochs=N_EPOCAS, batch_size = 256, validation_data=(X_val_1, y_val_1), callbacks=[early_stop])"
   ]
  },
  {
   "cell_type": "markdown",
   "id": "5342e1ae",
   "metadata": {},
   "source": [
    "En las siguientes gráficas, se evidencia que el problema del subajuste o underfitting se ha mejorado notoriamente con los nuevos ajustes de la red, mejorando el accuracy:"
   ]
  },
  {
   "cell_type": "code",
   "execution_count": 413,
   "id": "f6e2e061",
   "metadata": {},
   "outputs": [
    {
     "data": {
      "image/png": "[encoded data removed]",
      "text/plain": [
       "<Figure size 432x288 with 1 Axes>"
      ]
     },
     "metadata": {
      "needs_background": "light"
     },
     "output_type": "display_data"
    },
    {
     "data": {
      "image/png": "[encoded data removed]",
      "text/plain": [
       "<Figure size 432x288 with 1 Axes>"
      ]
     },
     "metadata": {
      "needs_background": "light"
     },
     "output_type": "display_data"
    }
   ],
   "source": [
    "plot_acc(history_2_v2, title = \"Accuracy del modelo_2\")\n",
    "plot_loss(history_2_v2, title = \"Loss del modelo_2\")"
   ]
  },
  {
   "cell_type": "markdown",
   "id": "4f684223",
   "metadata": {},
   "source": [
    "El `accuracy` se mejoró notoriamente en comparación con la primera arquitectura de la red:"
   ]
  },
  {
   "cell_type": "code",
   "execution_count": 414,
   "id": "0a596988",
   "metadata": {},
   "outputs": [
    {
     "name": "stdout",
     "output_type": "stream",
     "text": [
      "7/7 [==============================] - 0s 5ms/step - loss: 1.1283 - accuracy: 0.5850\n",
      "Accuracy del modelo_2 en test: 0.5849999785423279\n",
      "Loss del modelo_2 en test: 1.1283478736877441\n"
     ]
    }
   ],
   "source": [
    "metricas = modelo_2_v2.evaluate(X_test_1, y_test_1)\n",
    "print(\"Accuracy del modelo_2 en test:\", metricas[1])\n",
    "print(\"Loss del modelo_2 en test:\", metricas[0])"
   ]
  },
  {
   "cell_type": "markdown",
   "id": "42c1655e",
   "metadata": {},
   "source": [
    "### 3. Libertad para diseñar un modelo\n",
    "\n",
    "En este tercer y último ejercicio, serás (prácticamente) libre para crear tu propia red neuronal que resuelva un problema de clasificación multiclase. El objetivo será que diseñes, entrenes y evalúes tu propio modelo, obteniendo con ello las mejores métricas posibles en el conjunto de test. Tan fácil (o no) como eso. La evaluación dependerá de las explicaciones en cuanto al diseño y entrenamiendo, así como al resultado de accuracy obtenido.\n",
    "\n",
    "Tendrás que utilizar el conjunto de datos que se va a crear a continuación definido por **X_2** e **y_2**, que tiene las siguientes propiedades:\n",
    "- 10000 registros\n",
    "- 40 atributos, 5 de ellos \"informativos\"\n",
    "- 4 clases de salida\n",
    "- Un 10% de aleatoriedad en la salida\n",
    "\n",
    "Se crearán los subconjuntos **X_train_2**, **X_val_2**, **X_test_2**, **y_train_2**,**y_val_2**,**y_test_2** sigún la siguiente división:\n",
    "- 64% de los datos para train\n",
    "- 16% de los datos para validación\n",
    "- 20% de los datos para test"
   ]
  },
  {
   "cell_type": "code",
   "execution_count": 32,
   "id": "c24f9b06",
   "metadata": {},
   "outputs": [],
   "source": [
    "#NOTOCAR\n",
    "X_2, y_2 = make_classification(n_samples=10000, n_informative = 5, n_features=40, n_classes = 4, flip_y = 0.1, random_state=45)\n",
    "X_train_2, X_test_2, y_train_2, y_test_2 = train_test_split(X_2, y_2, test_size=0.2)\n",
    "X_train_2, X_val_2, y_train_2, y_val_2 = train_test_split(X_train_2, y_train_2, test_size=0.2)"
   ]
  },
  {
   "cell_type": "markdown",
   "id": "00499a5c",
   "metadata": {},
   "source": [
    "A partir de aquí habrá que diseñar, compilar, entrenar y evaluar el modelo. La única restricción será que el modelo debe de tener, al menos, 3 capas ocultas. Es la única restricción de aquí en adelante. Usa todas las celdas que consideres necesario para argumentar tu diseño y tu modelo final.\n",
    "\n",
    "Acuérdate de considerar todas las opciones que se han visto en clase referentes a:\n",
    "- Distintos optimizadores\n",
    "- Distintas funciones de activación\n",
    "- Distintos tipos de capas\n",
    "- Distintas funciones de coste\n",
    "- Distintas técnicas de regularización\n",
    "- Distinto número de batch_size y épocas\n",
    "- Distintos inicializadores de pesos\n",
    "\n",
    "Realiza experimentos y juega con Keras. Acuérdate de intentar justificar los motivos por los que la red funciona mejor con una características u otra. Debido a que los datos se están generando de manera sintética y no hemos llevado a cabo el proceso de EDA, no podemos sacar todas las conclusiones ni diseñar una arquitectura acorde a los datos. Por eso el proceso será prueba y error, siempre de la manera más justificada posible."
   ]
  },
  {
   "cell_type": "markdown",
   "id": "38dedf6c",
   "metadata": {},
   "source": [
    "Se implementó una red neuronal con 3 capas ocultas. No se aumentaron el número de capas puesto que no se conseguía una mejora notoria y en algunos casos se reducía el accuracy. Se colocarón 512, 256 y 64 neuronas para cada capa, respectivamente. De igual forma, esta cantidad de neuronas por capa demostró ser el valor justo para conseguir un buen accuracy y un buen tiempo de entrenamiento. Se utilizó la función de activación `sigmoide` puesto que subió alrederor de 8% el accuracy obtenido. No fue necesario utilizar regulizadores, puesto que no se consiguió overfitting, ademas de que afectaban el accuracy final. Tampoco se consideró inicializadores de pesos puesto que no afectaban significativamente el resultado."
   ]
  },
  {
   "cell_type": "code",
   "execution_count": 394,
   "id": "530f1aea",
   "metadata": {},
   "outputs": [],
   "source": [
    "tf.keras.backend.clear_session()\n",
    "modelo_3 = tf.keras.models.Sequential([\n",
    "    # Diseña tu modelo aquí\n",
    "    tf.keras.layers.Dense(512, input_shape = (40,), activation='sigmoid'),\n",
    "    tf.keras.layers.Dense(256, activation='sigmoid'),\n",
    "    tf.keras.layers.Dense(64, activation='sigmoid'),\n",
    "    tf.keras.layers.Dense(4, activation='softmax')\n",
    "])"
   ]
  },
  {
   "cell_type": "markdown",
   "id": "8e1cac83",
   "metadata": {},
   "source": [
    "Resumen del modelo"
   ]
  },
  {
   "cell_type": "code",
   "execution_count": 395,
   "id": "3490ce3a",
   "metadata": {},
   "outputs": [
    {
     "name": "stdout",
     "output_type": "stream",
     "text": [
      "Model: \"sequential\"\n",
      "_________________________________________________________________\n",
      " Layer (type)                Output Shape              Param #   \n",
      "=================================================================\n",
      " dense (Dense)               (None, 512)               20992     \n",
      "                                                                 \n",
      " dense_1 (Dense)             (None, 256)               131328    \n",
      "                                                                 \n",
      " dense_2 (Dense)             (None, 64)                16448     \n",
      "                                                                 \n",
      " dense_3 (Dense)             (None, 4)                 260       \n",
      "                                                                 \n",
      "=================================================================\n",
      "Total params: 169,028\n",
      "Trainable params: 169,028\n",
      "Non-trainable params: 0\n",
      "_________________________________________________________________\n"
     ]
    }
   ],
   "source": [
    "modelo_3.summary()"
   ]
  },
  {
   "cell_type": "markdown",
   "id": "e21b18cf",
   "metadata": {},
   "source": [
    "Se utilizó el optimizador `adam` puesto que entregó buenos resultados en accuracy y en términos de ajuste. La función de pérdida se colocó en `sparse_categorical_crossentropy` para evitar utilizar One Hot Coding."
   ]
  },
  {
   "cell_type": "code",
   "execution_count": 396,
   "id": "9d5d012d",
   "metadata": {},
   "outputs": [],
   "source": [
    "modelo_3.compile(optimizer=\"adam\",\n",
    "              loss=\"sparse_categorical_crossentropy\",\n",
    "              metrics=['accuracy'])"
   ]
  },
  {
   "cell_type": "markdown",
   "id": "c03a5f0b",
   "metadata": {},
   "source": [
    "Se añadió un `early_stopping` para detener el entrenamiento luego de no obtener una mejora en la red después de 10 épocas."
   ]
  },
  {
   "cell_type": "code",
   "execution_count": 397,
   "id": "5697e4f2",
   "metadata": {},
   "outputs": [],
   "source": [
    "early_stop = tf.keras.callbacks.EarlyStopping(monitor='val_loss', patience=10)"
   ]
  },
  {
   "cell_type": "markdown",
   "id": "aa8f8276",
   "metadata": {},
   "source": [
    "Se entrenó la red con 80 épocas, valor justo y necesario para mejorar la red sin sobreajustarla. El tamaño del lote se mantuvo en 256 puesto que mantenia estable la red y se conseguía un buen tiempo de entrenamiento."
   ]
  },
  {
   "cell_type": "code",
   "execution_count": 398,
   "id": "1094bcd2",
   "metadata": {},
   "outputs": [
    {
     "name": "stdout",
     "output_type": "stream",
     "text": [
      "Epoch 1/80\n",
      "25/25 [==============================] - 2s 27ms/step - loss: 1.4264 - accuracy: 0.2670 - val_loss: 1.3693 - val_accuracy: 0.3950\n",
      "Epoch 2/80\n",
      "25/25 [==============================] - 0s 12ms/step - loss: 1.3240 - accuracy: 0.4231 - val_loss: 1.2829 - val_accuracy: 0.4044\n",
      "Epoch 3/80\n",
      "25/25 [==============================] - 0s 14ms/step - loss: 1.2094 - accuracy: 0.4966 - val_loss: 1.1413 - val_accuracy: 0.5744\n",
      "Epoch 4/80\n",
      "25/25 [==============================] - 0s 12ms/step - loss: 1.0749 - accuracy: 0.5841 - val_loss: 1.0140 - val_accuracy: 0.6288\n",
      "Epoch 5/80\n",
      "25/25 [==============================] - 0s 12ms/step - loss: 0.9857 - accuracy: 0.6037 - val_loss: 0.9548 - val_accuracy: 0.6313\n",
      "Epoch 6/80\n",
      "25/25 [==============================] - 0s 12ms/step - loss: 0.9460 - accuracy: 0.6212 - val_loss: 0.9324 - val_accuracy: 0.6406\n",
      "Epoch 7/80\n",
      "25/25 [==============================] - 0s 12ms/step - loss: 0.9298 - accuracy: 0.6272 - val_loss: 0.9287 - val_accuracy: 0.6469\n",
      "Epoch 8/80\n",
      "25/25 [==============================] - 0s 12ms/step - loss: 0.9233 - accuracy: 0.6327 - val_loss: 0.9162 - val_accuracy: 0.6450\n",
      "Epoch 9/80\n",
      "25/25 [==============================] - 0s 12ms/step - loss: 0.9113 - accuracy: 0.6367 - val_loss: 0.9038 - val_accuracy: 0.6544\n",
      "Epoch 10/80\n",
      "25/25 [==============================] - 0s 12ms/step - loss: 0.9006 - accuracy: 0.6448 - val_loss: 0.8998 - val_accuracy: 0.6394\n",
      "Epoch 11/80\n",
      "25/25 [==============================] - 0s 12ms/step - loss: 0.8935 - accuracy: 0.6486 - val_loss: 0.8947 - val_accuracy: 0.6531\n",
      "Epoch 12/80\n",
      "25/25 [==============================] - 0s 13ms/step - loss: 0.8874 - accuracy: 0.6453 - val_loss: 0.8932 - val_accuracy: 0.6288\n",
      "Epoch 13/80\n",
      "25/25 [==============================] - 0s 12ms/step - loss: 0.8854 - accuracy: 0.6483 - val_loss: 0.8810 - val_accuracy: 0.6606\n",
      "Epoch 14/80\n",
      "25/25 [==============================] - 0s 12ms/step - loss: 0.8757 - accuracy: 0.6523 - val_loss: 0.8863 - val_accuracy: 0.6444\n",
      "Epoch 15/80\n",
      "25/25 [==============================] - 0s 12ms/step - loss: 0.8693 - accuracy: 0.6545 - val_loss: 0.8628 - val_accuracy: 0.6556\n",
      "Epoch 16/80\n",
      "25/25 [==============================] - 0s 14ms/step - loss: 0.8603 - accuracy: 0.6569 - val_loss: 0.8698 - val_accuracy: 0.6575\n",
      "Epoch 17/80\n",
      "25/25 [==============================] - 0s 13ms/step - loss: 0.8570 - accuracy: 0.6581 - val_loss: 0.8645 - val_accuracy: 0.6450\n",
      "Epoch 18/80\n",
      "25/25 [==============================] - 0s 12ms/step - loss: 0.8479 - accuracy: 0.6653 - val_loss: 0.8493 - val_accuracy: 0.6725\n",
      "Epoch 19/80\n",
      "25/25 [==============================] - 0s 12ms/step - loss: 0.8431 - accuracy: 0.6614 - val_loss: 0.8376 - val_accuracy: 0.6731\n",
      "Epoch 20/80\n",
      "25/25 [==============================] - 0s 13ms/step - loss: 0.8308 - accuracy: 0.6722 - val_loss: 0.8436 - val_accuracy: 0.6681\n",
      "Epoch 21/80\n",
      "25/25 [==============================] - 0s 12ms/step - loss: 0.8255 - accuracy: 0.6728 - val_loss: 0.8279 - val_accuracy: 0.6562\n",
      "Epoch 22/80\n",
      "25/25 [==============================] - 0s 13ms/step - loss: 0.8181 - accuracy: 0.6789 - val_loss: 0.8214 - val_accuracy: 0.6869\n",
      "Epoch 23/80\n",
      "25/25 [==============================] - 0s 13ms/step - loss: 0.8067 - accuracy: 0.6800 - val_loss: 0.8148 - val_accuracy: 0.6913\n",
      "Epoch 24/80\n",
      "25/25 [==============================] - 0s 13ms/step - loss: 0.8014 - accuracy: 0.6830 - val_loss: 0.8051 - val_accuracy: 0.6862\n",
      "Epoch 25/80\n",
      "25/25 [==============================] - 0s 14ms/step - loss: 0.7944 - accuracy: 0.6858 - val_loss: 0.8009 - val_accuracy: 0.6975\n",
      "Epoch 26/80\n",
      "25/25 [==============================] - 0s 12ms/step - loss: 0.7882 - accuracy: 0.6920 - val_loss: 0.7936 - val_accuracy: 0.6919\n",
      "Epoch 27/80\n",
      "25/25 [==============================] - 0s 12ms/step - loss: 0.7852 - accuracy: 0.6928 - val_loss: 0.7844 - val_accuracy: 0.6969\n",
      "Epoch 28/80\n",
      "25/25 [==============================] - 0s 13ms/step - loss: 0.7754 - accuracy: 0.7006 - val_loss: 0.7791 - val_accuracy: 0.7006\n",
      "Epoch 29/80\n",
      "25/25 [==============================] - 0s 13ms/step - loss: 0.7608 - accuracy: 0.7095 - val_loss: 0.7710 - val_accuracy: 0.7169\n",
      "Epoch 30/80\n",
      "25/25 [==============================] - 0s 13ms/step - loss: 0.7548 - accuracy: 0.7148 - val_loss: 0.7608 - val_accuracy: 0.7163\n",
      "Epoch 31/80\n",
      "25/25 [==============================] - 0s 17ms/step - loss: 0.7460 - accuracy: 0.7189 - val_loss: 0.7576 - val_accuracy: 0.7188\n",
      "Epoch 32/80\n",
      "25/25 [==============================] - 0s 12ms/step - loss: 0.7371 - accuracy: 0.7244 - val_loss: 0.7583 - val_accuracy: 0.7181\n",
      "Epoch 33/80\n",
      "25/25 [==============================] - 0s 13ms/step - loss: 0.7299 - accuracy: 0.7327 - val_loss: 0.7354 - val_accuracy: 0.7306\n",
      "Epoch 34/80\n",
      "25/25 [==============================] - 0s 13ms/step - loss: 0.7177 - accuracy: 0.7370 - val_loss: 0.7283 - val_accuracy: 0.7287\n",
      "Epoch 35/80\n",
      "25/25 [==============================] - 0s 13ms/step - loss: 0.7124 - accuracy: 0.7384 - val_loss: 0.7171 - val_accuracy: 0.7431\n",
      "Epoch 36/80\n",
      "25/25 [==============================] - 0s 13ms/step - loss: 0.6996 - accuracy: 0.7475 - val_loss: 0.7137 - val_accuracy: 0.7481\n",
      "Epoch 37/80\n",
      "25/25 [==============================] - 0s 13ms/step - loss: 0.6861 - accuracy: 0.7595 - val_loss: 0.7043 - val_accuracy: 0.7544\n",
      "Epoch 38/80\n",
      "25/25 [==============================] - 0s 12ms/step - loss: 0.6730 - accuracy: 0.7597 - val_loss: 0.6840 - val_accuracy: 0.7669\n",
      "Epoch 39/80\n",
      "25/25 [==============================] - 0s 12ms/step - loss: 0.6623 - accuracy: 0.7670 - val_loss: 0.6806 - val_accuracy: 0.7694\n",
      "Epoch 40/80\n",
      "25/25 [==============================] - 0s 12ms/step - loss: 0.6533 - accuracy: 0.7719 - val_loss: 0.6662 - val_accuracy: 0.7825\n",
      "Epoch 41/80\n",
      "25/25 [==============================] - 0s 13ms/step - loss: 0.6436 - accuracy: 0.7816 - val_loss: 0.6634 - val_accuracy: 0.7794\n",
      "Epoch 42/80\n",
      "25/25 [==============================] - 0s 15ms/step - loss: 0.6332 - accuracy: 0.7853 - val_loss: 0.6540 - val_accuracy: 0.7750\n",
      "Epoch 43/80\n",
      "25/25 [==============================] - 0s 14ms/step - loss: 0.6256 - accuracy: 0.7853 - val_loss: 0.6450 - val_accuracy: 0.7881\n",
      "Epoch 44/80\n",
      "25/25 [==============================] - 0s 14ms/step - loss: 0.6147 - accuracy: 0.7939 - val_loss: 0.6424 - val_accuracy: 0.7794\n",
      "Epoch 45/80\n",
      "25/25 [==============================] - 0s 13ms/step - loss: 0.6074 - accuracy: 0.7941 - val_loss: 0.6485 - val_accuracy: 0.7812\n",
      "Epoch 46/80\n",
      "25/25 [==============================] - 0s 14ms/step - loss: 0.6049 - accuracy: 0.7941 - val_loss: 0.6348 - val_accuracy: 0.7881\n",
      "Epoch 47/80\n",
      "25/25 [==============================] - 0s 13ms/step - loss: 0.6001 - accuracy: 0.7991 - val_loss: 0.6320 - val_accuracy: 0.7875\n",
      "Epoch 48/80\n",
      "25/25 [==============================] - 0s 14ms/step - loss: 0.5886 - accuracy: 0.8014 - val_loss: 0.6195 - val_accuracy: 0.7950\n",
      "Epoch 49/80\n",
      "25/25 [==============================] - 0s 14ms/step - loss: 0.5844 - accuracy: 0.8056 - val_loss: 0.6205 - val_accuracy: 0.7975\n",
      "Epoch 50/80\n",
      "25/25 [==============================] - 0s 16ms/step - loss: 0.5781 - accuracy: 0.8086 - val_loss: 0.6245 - val_accuracy: 0.7894\n",
      "Epoch 51/80\n",
      "25/25 [==============================] - 0s 15ms/step - loss: 0.5747 - accuracy: 0.8105 - val_loss: 0.6254 - val_accuracy: 0.7919\n",
      "Epoch 52/80\n",
      "25/25 [==============================] - 0s 14ms/step - loss: 0.5663 - accuracy: 0.8130 - val_loss: 0.6240 - val_accuracy: 0.7906\n",
      "Epoch 53/80\n",
      "25/25 [==============================] - 0s 14ms/step - loss: 0.5621 - accuracy: 0.8144 - val_loss: 0.6235 - val_accuracy: 0.7912\n",
      "Epoch 54/80\n",
      "25/25 [==============================] - 0s 14ms/step - loss: 0.5565 - accuracy: 0.8173 - val_loss: 0.6118 - val_accuracy: 0.7969\n",
      "Epoch 55/80\n",
      "25/25 [==============================] - 0s 13ms/step - loss: 0.5555 - accuracy: 0.8200 - val_loss: 0.6263 - val_accuracy: 0.7894\n",
      "Epoch 56/80\n",
      "25/25 [==============================] - 0s 15ms/step - loss: 0.5513 - accuracy: 0.8209 - val_loss: 0.6126 - val_accuracy: 0.7987\n",
      "Epoch 57/80\n",
      "25/25 [==============================] - 0s 13ms/step - loss: 0.5422 - accuracy: 0.8256 - val_loss: 0.6128 - val_accuracy: 0.8000\n",
      "Epoch 58/80\n",
      "25/25 [==============================] - 0s 13ms/step - loss: 0.5353 - accuracy: 0.8248 - val_loss: 0.6137 - val_accuracy: 0.8012\n"
     ]
    },
    {
     "name": "stdout",
     "output_type": "stream",
     "text": [
      "Epoch 59/80\n",
      "25/25 [==============================] - 0s 13ms/step - loss: 0.5348 - accuracy: 0.8245 - val_loss: 0.6087 - val_accuracy: 0.8062\n",
      "Epoch 60/80\n",
      "25/25 [==============================] - 0s 12ms/step - loss: 0.5283 - accuracy: 0.8333 - val_loss: 0.6097 - val_accuracy: 0.8025\n",
      "Epoch 61/80\n",
      "25/25 [==============================] - 0s 13ms/step - loss: 0.5233 - accuracy: 0.8342 - val_loss: 0.6142 - val_accuracy: 0.8044\n",
      "Epoch 62/80\n",
      "25/25 [==============================] - 0s 13ms/step - loss: 0.5226 - accuracy: 0.8341 - val_loss: 0.6104 - val_accuracy: 0.7994\n",
      "Epoch 63/80\n",
      "25/25 [==============================] - 0s 14ms/step - loss: 0.5205 - accuracy: 0.8363 - val_loss: 0.6136 - val_accuracy: 0.8006\n",
      "Epoch 64/80\n",
      "25/25 [==============================] - 0s 12ms/step - loss: 0.5206 - accuracy: 0.8339 - val_loss: 0.6160 - val_accuracy: 0.8037\n",
      "Epoch 65/80\n",
      "25/25 [==============================] - 0s 11ms/step - loss: 0.5086 - accuracy: 0.8388 - val_loss: 0.6051 - val_accuracy: 0.8112\n",
      "Epoch 66/80\n",
      "25/25 [==============================] - 0s 11ms/step - loss: 0.5105 - accuracy: 0.8369 - val_loss: 0.6045 - val_accuracy: 0.8037\n",
      "Epoch 67/80\n",
      "25/25 [==============================] - 0s 11ms/step - loss: 0.5004 - accuracy: 0.8427 - val_loss: 0.6151 - val_accuracy: 0.8012\n",
      "Epoch 68/80\n",
      "25/25 [==============================] - 0s 13ms/step - loss: 0.5012 - accuracy: 0.8420 - val_loss: 0.6087 - val_accuracy: 0.8025\n",
      "Epoch 69/80\n",
      "25/25 [==============================] - 0s 11ms/step - loss: 0.5003 - accuracy: 0.8422 - val_loss: 0.6129 - val_accuracy: 0.8006\n",
      "Epoch 70/80\n",
      "25/25 [==============================] - 0s 12ms/step - loss: 0.4902 - accuracy: 0.8455 - val_loss: 0.6135 - val_accuracy: 0.8031\n",
      "Epoch 71/80\n",
      "25/25 [==============================] - 0s 11ms/step - loss: 0.4847 - accuracy: 0.8497 - val_loss: 0.6107 - val_accuracy: 0.8044\n",
      "Epoch 72/80\n",
      "25/25 [==============================] - 0s 11ms/step - loss: 0.4783 - accuracy: 0.8516 - val_loss: 0.6106 - val_accuracy: 0.8056\n",
      "Epoch 73/80\n",
      "25/25 [==============================] - 0s 11ms/step - loss: 0.4742 - accuracy: 0.8531 - val_loss: 0.6182 - val_accuracy: 0.8019\n",
      "Epoch 74/80\n",
      "25/25 [==============================] - 0s 12ms/step - loss: 0.4747 - accuracy: 0.8536 - val_loss: 0.6147 - val_accuracy: 0.8006\n",
      "Epoch 75/80\n",
      "25/25 [==============================] - 0s 11ms/step - loss: 0.4707 - accuracy: 0.8541 - val_loss: 0.6229 - val_accuracy: 0.8050\n",
      "Epoch 76/80\n",
      "25/25 [==============================] - 0s 11ms/step - loss: 0.4685 - accuracy: 0.8536 - val_loss: 0.6166 - val_accuracy: 0.8056\n"
     ]
    }
   ],
   "source": [
    "history_3 = modelo_3.fit(X_train_2, y_train_2, epochs=80, batch_size = 256, validation_data=(X_val_2, y_val_2), callbacks=[early_stop])"
   ]
  },
  {
   "cell_type": "markdown",
   "id": "f800fb85",
   "metadata": {},
   "source": [
    "Resultados del entrenamiento:"
   ]
  },
  {
   "cell_type": "code",
   "execution_count": 399,
   "id": "cfe0ba3d",
   "metadata": {},
   "outputs": [
    {
     "data": {
      "image/png": "[encoded data removed]",
      "text/plain": [
       "<Figure size 432x288 with 1 Axes>"
      ]
     },
     "metadata": {
      "needs_background": "light"
     },
     "output_type": "display_data"
    },
    {
     "data": {
      "image/png": "[encoded data removed]",
      "text/plain": [
       "<Figure size 432x288 with 1 Axes>"
      ]
     },
     "metadata": {
      "needs_background": "light"
     },
     "output_type": "display_data"
    }
   ],
   "source": [
    "plot_acc(history_3, title = \"Accuracy del modelo_2\")\n",
    "plot_loss(history_3, title = \"Loss del modelo_2\")"
   ]
  },
  {
   "cell_type": "markdown",
   "id": "f79f513e",
   "metadata": {},
   "source": [
    "Se obtuvo un `accuracy` del 80%:"
   ]
  },
  {
   "cell_type": "code",
   "execution_count": 400,
   "id": "6cede4b4",
   "metadata": {},
   "outputs": [
    {
     "name": "stdout",
     "output_type": "stream",
     "text": [
      "63/63 [==============================] - 0s 3ms/step - loss: 0.6124 - accuracy: 0.8020\n",
      "Accuracy del modelo_3 en test: 0.8019999861717224\n",
      "Loss del modelo_3 en test: 0.6124211549758911\n"
     ]
    }
   ],
   "source": [
    "metricas = modelo_3.evaluate(X_test_2, y_test_2)\n",
    "print(\"Accuracy del modelo_3 en test:\", metricas[1])\n",
    "print(\"Loss del modelo_3 en test:\", metricas[0])"
   ]
  }
 ],
 "metadata": {
  "kernelspec": {
   "display_name": "Python 3 (ipykernel)",
   "language": "python",
   "name": "python3"
  },
  "language_info": {
   "codemirror_mode": {
    "name": "ipython",
    "version": 3
   },
   "file_extension": ".py",
   "mimetype": "text/x-python",
   "name": "python",
   "nbconvert_exporter": "python",
   "pygments_lexer": "ipython3",
   "version": "3.9.12"
  }
 },
 "nbformat": 4,
 "nbformat_minor": 5
}
